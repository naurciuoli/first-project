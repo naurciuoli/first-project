{
 "cells": [
  {
   "cell_type": "markdown",
   "metadata": {},
   "source": [
    "# Introduction"
   ]
  },
  {
   "cell_type": "markdown",
   "metadata": {},
   "source": [
    "Given the process of getting to the airport and through security, people have an expectation for punctionality. We all know the feeling, walking up to your airport gate on time just to see that the flight has been delayed. It is extremely frustrating. What is even more frustrating is when the airline gives a new departure time, and then another, and then another. How does this happen? In this notebook I plan to investigate the different factors that affect flight delays and the problems of accurately predicting new departure times."
   ]
  },
  {
   "cell_type": "markdown",
   "metadata": {},
   "source": [
    "## Dataset "
   ]
  },
  {
   "cell_type": "markdown",
   "metadata": {},
   "source": [
    "The Dataset selected includes information on just over a million flights in 2008. This includes the following variables:"
   ]
  },
  {
   "cell_type": "markdown",
   "metadata": {},
   "source": [
    "    1.  Year 2008 "
   ]
  },
  {
   "cell_type": "markdown",
   "metadata": {},
   "source": [
    "    2.  Month 1-12 "
   ]
  },
  {
   "cell_type": "markdown",
   "metadata": {},
   "source": [
    "    3.  DayofMonth 1-31 "
   ]
  },
  {
   "cell_type": "markdown",
   "metadata": {},
   "source": [
    "    4.  DayOfWeek 1 (Monday) - 7 (Sunday)"
   ]
  },
  {
   "cell_type": "markdown",
   "metadata": {},
   "source": [
    "    5.  DepTime actual departure time (local, hhmm)"
   ]
  },
  {
   "cell_type": "markdown",
   "metadata": {},
   "source": [
    "    6.  CRSDepTime scheduled departure time (local, hhmm) "
   ]
  },
  {
   "cell_type": "markdown",
   "metadata": {},
   "source": [
    "    7.  ArrTime actual arrival time (local, hhmm)"
   ]
  },
  {
   "cell_type": "markdown",
   "metadata": {},
   "source": [
    "    8.  CRSArrTime scheduled arrival time (local, hhmm)"
   ]
  },
  {
   "cell_type": "markdown",
   "metadata": {},
   "source": [
    "    9.  UniqueCarrier unique carrier code"
   ]
  },
  {
   "cell_type": "markdown",
   "metadata": {},
   "source": [
    "    10. FlightNum flight number"
   ]
  },
  {
   "cell_type": "markdown",
   "metadata": {},
   "source": [
    "    11. TailNum plane tail number: aircraft registration, unique aircraft identifier"
   ]
  },
  {
   "cell_type": "markdown",
   "metadata": {},
   "source": [
    "    12. ActualElapsedTime in minutes"
   ]
  },
  {
   "cell_type": "markdown",
   "metadata": {},
   "source": [
    "    13. CRSElapsedTime in minutes"
   ]
  },
  {
   "cell_type": "markdown",
   "metadata": {},
   "source": [
    "    14. AirTime in minutes"
   ]
  },
  {
   "cell_type": "markdown",
   "metadata": {},
   "source": [
    "    15. ArrDelay arrival delay, in minutes: A flight is counted as \"on time\" if it operated less than 15 minutes later the scheduled time shown in the carriers' Computerized Reservations Systems (CRS)."
   ]
  },
  {
   "cell_type": "markdown",
   "metadata": {},
   "source": [
    "    16. DepDelay departure delay, in minutes"
   ]
  },
  {
   "cell_type": "markdown",
   "metadata": {},
   "source": [
    "    17. Origin origin IATA airport code"
   ]
  },
  {
   "cell_type": "markdown",
   "metadata": {},
   "source": [
    "    18. Dest destination IATA airport code"
   ]
  },
  {
   "cell_type": "markdown",
   "metadata": {},
   "source": [
    "    19. Distance in miles"
   ]
  },
  {
   "cell_type": "markdown",
   "metadata": {},
   "source": [
    "    20. TaxiIn taxi in time, in minutes"
   ]
  },
  {
   "cell_type": "markdown",
   "metadata": {},
   "source": [
    "    21. TaxiOut taxi out time in minutes"
   ]
  },
  {
   "cell_type": "markdown",
   "metadata": {},
   "source": [
    "    22. Cancelled *was the flight cancelled"
   ]
  },
  {
   "cell_type": "markdown",
   "metadata": {},
   "source": [
    "    23. CancellationCode reason for cancellation (A = carrier, B = weather, C = NAS, D = security)"
   ]
  },
  {
   "cell_type": "markdown",
   "metadata": {},
   "source": [
    "    24. Diverted 1 = yes, 0 = no"
   ]
  },
  {
   "cell_type": "markdown",
   "metadata": {},
   "source": [
    "    25. CarrierDelay in minutes: Carrier delay is within the control of the air carrier. Examples of occurrences that may determine carrier delay are: aircraft cleaning, aircraft damage, awaiting the arrival of connecting passengers or crew, baggage, bird strike, cargo loading, catering, computer, outage-carrier equipment, crew legality (pilot or attendant rest), damage by hazardous goods, engineering inspection, fueling, handling disabled passengers, late crew, lavatory servicing, maintenance, oversales, potable water servicing, removal of unruly passenger, slow boarding or seating, stowing carry-on baggage, weight and balance delays."
   ]
  },
  {
   "cell_type": "markdown",
   "metadata": {},
   "source": [
    "    26. WeatherDelay in minutes: Weather delay is caused by extreme or hazardous weather conditions that are forecasted or manifest themselves on point of departure, enroute, or on point of arrival."
   ]
  },
  {
   "cell_type": "markdown",
   "metadata": {},
   "source": [
    "    27. NASDelay in minutes: Delay that is within the control of the National Airspace System (NAS) may include: non-extreme weather conditions, airport operations, heavy traffic volume, air traffic control, etc."
   ]
  },
  {
   "cell_type": "markdown",
   "metadata": {},
   "source": [
    "    28. SecurityDelay in minutes: Security delay is caused by evacuation of a terminal or concourse, re-boarding of aircraft because of security breach, inoperative screening equipment and/or long lines in excess of 29 minutes at screening areas."
   ]
  },
  {
   "cell_type": "markdown",
   "metadata": {},
   "source": [
    "     29. LateAircraftDelay in minutes: Arrival delay at an airport due to the late arrival of the same aircraft at a previous airport. The ripple effect of an earlier delay at downstream airports is referred to as delay propagation.\n",
    "\n"
   ]
  },
  {
   "cell_type": "markdown",
   "metadata": {},
   "source": [
    "# Loading in the Data/Packages and Preparing it for Analysis "
   ]
  },
  {
   "cell_type": "code",
   "execution_count": 144,
   "metadata": {},
   "outputs": [],
   "source": [
    "import pandas as pd\n",
    "import seaborn as sns\n",
    "import matplotlib.pyplot as plt\n",
    "from sklearn.preprocessing import LabelEncoder, OneHotEncoder\n",
    "import numpy as np\n",
    "from sklearn.linear_model import LinearRegression\n",
    "from sklearn.model_selection import train_test_split \n",
    "from sklearn import metrics\n",
    "from sklearn.metrics import r2_score"
   ]
  },
  {
   "cell_type": "code",
   "execution_count": 145,
   "metadata": {},
   "outputs": [],
   "source": [
    "#Loading in the Dataset\n",
    "flights = pd.read_csv(\"DelayedFlights.csv\")"
   ]
  },
  {
   "cell_type": "code",
   "execution_count": 147,
   "metadata": {},
   "outputs": [
    {
     "name": "stdout",
     "output_type": "stream",
     "text": [
      "<class 'pandas.core.frame.DataFrame'>\n",
      "RangeIndex: 1936758 entries, 0 to 1936757\n",
      "Data columns (total 30 columns):\n",
      "Unnamed: 0           int64\n",
      "Year                 int64\n",
      "Month                int64\n",
      "DayofMonth           int64\n",
      "DayOfWeek            int64\n",
      "DepTime              float64\n",
      "CRSDepTime           int64\n",
      "ArrTime              float64\n",
      "CRSArrTime           int64\n",
      "UniqueCarrier        object\n",
      "FlightNum            int64\n",
      "TailNum              object\n",
      "ActualElapsedTime    float64\n",
      "CRSElapsedTime       float64\n",
      "AirTime              float64\n",
      "ArrDelay             float64\n",
      "DepDelay             float64\n",
      "Origin               object\n",
      "Dest                 object\n",
      "Distance             int64\n",
      "TaxiIn               float64\n",
      "TaxiOut              float64\n",
      "Cancelled            int64\n",
      "CancellationCode     object\n",
      "Diverted             int64\n",
      "CarrierDelay         float64\n",
      "WeatherDelay         float64\n",
      "NASDelay             float64\n",
      "SecurityDelay        float64\n",
      "LateAircraftDelay    float64\n",
      "dtypes: float64(14), int64(11), object(5)\n",
      "memory usage: 443.3+ MB\n"
     ]
    }
   ],
   "source": [
    "#Dataset Schema\n",
    "flights.info()"
   ]
  },
  {
   "cell_type": "code",
   "execution_count": 148,
   "metadata": {},
   "outputs": [
    {
     "data": {
      "image/png": "[encoded data removed]",
      "text/plain": [
       "<Figure size 1440x864 with 2 Axes>"
      ]
     },
     "metadata": {
      "needs_background": "light"
     },
     "output_type": "display_data"
    }
   ],
   "source": [
    "#Correlation Matrix\n",
    "cm = flights.corr()\n",
    "f, ax = plt.subplots(figsize=(20,12))\n",
    "sns.heatmap(cm,vmax = 1, square = True)\n",
    "plt.show()"
   ]
  },
  {
   "cell_type": "markdown",
   "metadata": {},
   "source": [
    "As you can see, some of the variables are extremely correlated for obvious reasons. The variables related to time have the highest correlation. For example, a flight's arrival is highly dependent on when it actually departs from the gate. You can see some negative values in this column, showing that airlines will give themselves a little extra room for error. \n",
    "\n",
    "For the purpose of this analysis, I will focus mainly on departure delay. The variables that are most correlated to departure delay (other than arrival delay) include: Late Aircraft Delay, Security Delay, NAS Delay, and Carrier Delay."
   ]
  },
  {
   "cell_type": "code",
   "execution_count": 149,
   "metadata": {},
   "outputs": [],
   "source": [
    "#Creating New Date Variable\n",
    "flights['Date'] = pd.to_datetime(flights.Year*10000 + flights.Month*100 + flights.DayofMonth, format = '%Y%m%d')"
   ]
  },
  {
   "cell_type": "code",
   "execution_count": 150,
   "metadata": {},
   "outputs": [],
   "source": [
    "#Dropping Variables from the Table\n",
    "flights = flights.drop([\"Unnamed: 0\",\"DayofMonth\",'Year','FlightNum','TailNum'], axis = 1)\n"
   ]
  },
  {
   "cell_type": "markdown",
   "metadata": {},
   "source": [
    "# Exploratory Data Analysis"
   ]
  },
  {
   "cell_type": "markdown",
   "metadata": {},
   "source": [
    "## Airline Performance"
   ]
  },
  {
   "cell_type": "code",
   "execution_count": 151,
   "metadata": {},
   "outputs": [
    {
     "data": {
      "image/png": "[encoded data removed]",
      "text/plain": [
       "<Figure size 432x288 with 1 Axes>"
      ]
     },
     "metadata": {
      "needs_background": "light"
     },
     "output_type": "display_data"
    }
   ],
   "source": [
    "#Average Dep Delay by Airline\n",
    "airlineAvgDelay = flights.groupby('UniqueCarrier').agg({'DepDelay':'mean','ArrDelay':'mean'})\n",
    "airlineAvgDelay.reset_index(inplace = True)\n",
    "airlineAvgDelay = airlineAvgDelay.sort_values(by = ['DepDelay'])\n",
    "plt.barh(airlineAvgDelay.UniqueCarrier,airlineAvgDelay.DepDelay,align = 'center',alpha = .5)\n",
    "plt.xlabel('Average Departure Delay (in minutes)')\n",
    "plt.title(\"Airline Performance: Departure Delay\")\n",
    "plt.show()\n"
   ]
  },
  {
   "cell_type": "code",
   "execution_count": 152,
   "metadata": {},
   "outputs": [
    {
     "data": {
      "image/png": "[encoded data removed]",
      "text/plain": [
       "<Figure size 432x288 with 1 Axes>"
      ]
     },
     "metadata": {
      "needs_background": "light"
     },
     "output_type": "display_data"
    }
   ],
   "source": [
    "#Average Carrier Delay by Airline\n",
    "airlineAvgCDelay = flights.groupby('UniqueCarrier').agg({'CarrierDelay':'mean'})\n",
    "airlineAvgCDelay.reset_index(inplace = True)\n",
    "airlineAvgCDelay = airlineAvgCDelay.sort_values(by = ['CarrierDelay'])\n",
    "plt.barh(airlineAvgCDelay.UniqueCarrier,airlineAvgCDelay.CarrierDelay,align = 'center',alpha = .5)\n",
    "plt.xlabel('Average Carroer Delay (in minutes)')\n",
    "plt.title(\"Airline Performance: Carrier Delay\")\n",
    "plt.show()\n",
    "\n"
   ]
  },
  {
   "cell_type": "code",
   "execution_count": 153,
   "metadata": {},
   "outputs": [
    {
     "data": {
      "image/png": "[encoded data removed]",
      "text/plain": [
       "<Figure size 432x288 with 1 Axes>"
      ]
     },
     "metadata": {
      "needs_background": "light"
     },
     "output_type": "display_data"
    }
   ],
   "source": [
    "#Average Late Airctaft Delay by Airline\n",
    "airlineAvgLADelay = flights.groupby('UniqueCarrier').agg({'LateAircraftDelay':'mean'})\n",
    "airlineAvgLADelay.reset_index(inplace = True)\n",
    "airlineAvgLADelay = airlineAvgLADelay.sort_values(by = ['LateAircraftDelay'])\n",
    "plt.barh(airlineAvgLADelay.UniqueCarrier,airlineAvgLADelay.LateAircraftDelay,align = 'center',alpha = .5)\n",
    "plt.xlabel('Average Late Aircraft Delay (in minutes)')\n",
    "plt.title(\"Airline Performance: Late Aircraft Delay\")\n",
    "plt.show()"
   ]
  },
  {
   "cell_type": "code",
   "execution_count": 154,
   "metadata": {},
   "outputs": [
    {
     "data": {
      "image/png": "[encoded data removed]",
      "text/plain": [
       "<Figure size 432x288 with 1 Axes>"
      ]
     },
     "metadata": {
      "needs_background": "light"
     },
     "output_type": "display_data"
    }
   ],
   "source": [
    "#Average Weather Delay by Airline\n",
    "airlineAvgWDelay = flights.groupby('UniqueCarrier').agg({'WeatherDelay':'mean'})\n",
    "airlineAvgWDelay.reset_index(inplace = True)\n",
    "airlineAvgWDelay = airlineAvgWDelay.sort_values(by = ['WeatherDelay'])\n",
    "plt.barh(airlineAvgWDelay.UniqueCarrier,airlineAvgWDelay.WeatherDelay,align = 'center',alpha = .5)\n",
    "plt.xlabel('Average Weather Delay (in minutes)')\n",
    "plt.title(\"Airline Performance: Weather Delay\")\n",
    "plt.show()"
   ]
  },
  {
   "cell_type": "code",
   "execution_count": 155,
   "metadata": {},
   "outputs": [
    {
     "data": {
      "image/png": "[encoded data removed]",
      "text/plain": [
       "<Figure size 432x288 with 1 Axes>"
      ]
     },
     "metadata": {
      "needs_background": "light"
     },
     "output_type": "display_data"
    }
   ],
   "source": [
    "#Average NAS Delay by Airline\n",
    "airlineAvgNDelay = flights.groupby('UniqueCarrier').agg({'NASDelay':'mean'})\n",
    "airlineAvgNDelay.reset_index(inplace = True)\n",
    "airlineAvgNDelay = airlineAvgNDelay.sort_values(by = ['NASDelay'])\n",
    "plt.barh(airlineAvgNDelay.UniqueCarrier,airlineAvgNDelay.NASDelay,align = 'center',alpha = .5)\n",
    "plt.xlabel('Average NAS Delay (in minutes)')\n",
    "plt.title(\"Airline Performance: NAS Delay\")\n",
    "plt.show()"
   ]
  },
  {
   "cell_type": "markdown",
   "metadata": {},
   "source": [
    "As you can see, different airlines experience different combinations of delays. For example, B6 (Jet Blue) has relatively low weather and carrier delay but has relatively high NAS and late aircraft delay. Overally, the airlines with the best performance overall include AQ (Aloha Air), F9 (Frontier Airlines), and HA (Hawaiian Air). The airlines with the relatively worst performance include YV (Mesa Airlines), B6 (Jetblue Airlines), and XE (Express Jet)."
   ]
  },
  {
   "cell_type": "markdown",
   "metadata": {},
   "source": [
    "## Timing Effect"
   ]
  },
  {
   "cell_type": "code",
   "execution_count": 156,
   "metadata": {},
   "outputs": [
    {
     "data": {
      "image/png": "[encoded data removed]",
      "text/plain": [
       "<Figure size 432x288 with 1 Axes>"
      ]
     },
     "metadata": {
      "needs_background": "light"
     },
     "output_type": "display_data"
    }
   ],
   "source": [
    "#Time of Day\n",
    "plt.scatter(flights.CRSDepTime, flights.DepDelay)\n",
    "plt.ylabel('Departure Delay (in minutes)')\n",
    "plt.xlabel('Time of Day')\n",
    "plt.title('Departure Delay by Time of Day')\n",
    "plt.show()\n"
   ]
  },
  {
   "cell_type": "markdown",
   "metadata": {},
   "source": [
    "As shown above, flights that take place earlier in the day have a less of a chance of being delayed. This is due to the fact that once a flight is delayed, any flight using that same plane that day will very likely experience that same delay. If you want to book a flight that is on time, I suggest booking the earliest one possible."
   ]
  },
  {
   "cell_type": "code",
   "execution_count": 157,
   "metadata": {},
   "outputs": [
    {
     "data": {
      "image/png": "[encoded data removed]",
      "text/plain": [
       "<Figure size 432x288 with 1 Axes>"
      ]
     },
     "metadata": {
      "needs_background": "light"
     },
     "output_type": "display_data"
    }
   ],
   "source": [
    "#Day of Week\n",
    "dayOfWeekAvgDelay = flights.groupby(\"DayOfWeek\").agg({\"DepDelay\":'mean',\"DepTime\":'count'})\n",
    "dayOfWeekAvgDelay.reset_index(inplace = True)\n",
    "plt.bar(dayOfWeekAvgDelay.DayOfWeek,dayOfWeekAvgDelay.DepDelay)\n",
    "plt.title(\"Day of Week Performance\")\n",
    "plt.ylabel(\"Departure Delay Average (in minutes)\")\n",
    "plt.xlabel(\"Day of the Week\")\n",
    "plt.show()\n"
   ]
  },
  {
   "cell_type": "markdown",
   "metadata": {},
   "source": [
    "While flights towards the end of the week have slightly above average delayss, there seems to be little difference between the day of the week and on time performance."
   ]
  },
  {
   "cell_type": "code",
   "execution_count": 158,
   "metadata": {
    "scrolled": true
   },
   "outputs": [
    {
     "data": {
      "image/png": "[encoded data removed]",
      "text/plain": [
       "<Figure size 432x288 with 1 Axes>"
      ]
     },
     "metadata": {
      "needs_background": "light"
     },
     "output_type": "display_data"
    }
   ],
   "source": [
    "#Air Time Compared to Delay\n",
    "plt.scatter(flights.AirTime, flights.DepDelay)\n",
    "plt.ylabel('Departure Delay (in minutes)')\n",
    "plt.xlabel('Air Time')\n",
    "plt.title('Departure Delay by Air Time')\n",
    "plt.show()\n",
    "\n"
   ]
  },
  {
   "cell_type": "markdown",
   "metadata": {},
   "source": [
    "Longer flights tend to have less delay. However, this could simply because there are significantly less flights of this nature. In addition, longer flights could be on longer flight routes therefore less flights can take place in a day, less flights in the day means less room for error"
   ]
  },
  {
   "cell_type": "code",
   "execution_count": 159,
   "metadata": {},
   "outputs": [
    {
     "data": {
      "image/png": "[encoded data removed]",
      "text/plain": [
       "<Figure size 432x288 with 1 Axes>"
      ]
     },
     "metadata": {
      "needs_background": "light"
     },
     "output_type": "display_data"
    }
   ],
   "source": [
    "plt.hist(flights.DepDelay, bins = 40)\n",
    "plt.xlim(1,500)\n",
    "plt.title(\"Departure Delay Histogram\")\n",
    "plt.ylabel(\"Number of Flights\")\n",
    "plt.xlabel('Departure Delay (in minutes)')\n",
    "plt.show()"
   ]
  },
  {
   "cell_type": "markdown",
   "metadata": {},
   "source": [
    "A grand majority of flight delays are very small if anything. There is however a large number of flights that are delayed within a period of 1-2 hours."
   ]
  },
  {
   "cell_type": "markdown",
   "metadata": {},
   "source": [
    "# Modeling and Prediction"
   ]
  },
  {
   "cell_type": "markdown",
   "metadata": {},
   "source": [
    "There are obviously many reasons that cause flight delays that are not included in this dataset. Instead on focusing on accurate predicitons, this section of analysis intends to investigate the difference in estimating a new departure time based on the information provided. For example, airlines might let their passengers know that there is a delay as soon as they get news that a previous flight has been delayed or weather conditions are present. However, the full extent of the delay cannot be known until that flight takes off or the weather pattern becomes more predictable. Airlines must provide their passengers with a new departure time, which as mentioned before is often incorrect. Through this section I plan to example the differences between predicting total delay in two scenarios:\n",
    "    1. The full extent of the delays are known\n",
    "    2. There is known to be a delay but the full extent is not yet known"
   ]
  },
  {
   "cell_type": "markdown",
   "metadata": {},
   "source": [
    "## Data Prep for Prediction "
   ]
  },
  {
   "cell_type": "code",
   "execution_count": 181,
   "metadata": {},
   "outputs": [],
   "source": [
    "#Taking only the Non-Cancelled Flights and Dropping unwatned variables\n",
    "depPrediction = flights.loc[flights['Cancelled']==0]\n",
    "\n",
    "depPrediction = depPrediction.drop(['Cancelled','ArrTime','CRSArrTime','ActualElapsedTime',\n",
    "                                    'CancellationCode','Diverted','Dest','CRSElapsedTime','TaxiIn','TaxiOut',\n",
    "                                   'Date','Distance','DepTime','ArrDelay','Origin'], axis = 1)\n"
   ]
  },
  {
   "cell_type": "code",
   "execution_count": 185,
   "metadata": {},
   "outputs": [],
   "source": [
    "#Fill NA values for flights with no delays (Therefore the values should be 0)\n",
    "values = {'CarrierDelay':0,'WeatherDelay':0,'NASDelay':0,'SecurityDelay':0,'LateAircraftDelay':0,'AirTime':depPrediction.AirTime.mean()}\n",
    "depPrediction = depPrediction.fillna(value = values)\n"
   ]
  },
  {
   "cell_type": "code",
   "execution_count": 186,
   "metadata": {},
   "outputs": [
    {
     "data": {
      "text/plain": [
       "Month                0\n",
       "DayOfWeek            0\n",
       "CRSDepTime           0\n",
       "UniqueCarrier        0\n",
       "AirTime              0\n",
       "DepDelay             0\n",
       "CarrierDelay         0\n",
       "WeatherDelay         0\n",
       "NASDelay             0\n",
       "SecurityDelay        0\n",
       "LateAircraftDelay    0\n",
       "dtype: int64"
      ]
     },
     "execution_count": 186,
     "metadata": {},
     "output_type": "execute_result"
    }
   ],
   "source": [
    "#Check for Null Values\n",
    "depPrediction.isnull().sum()"
   ]
  },
  {
   "cell_type": "code",
   "execution_count": 187,
   "metadata": {},
   "outputs": [],
   "source": [
    "#Using One Hot Encoder on Unique Airline Codes\n",
    "enc = OneHotEncoder(handle_unknown = 'ignore')\n",
    "enc_df = pd.DataFrame(enc.fit_transform(depPrediction[['UniqueCarrier']]).toarray())\n",
    "\n",
    "depPrediction = depPrediction.join(enc_df)\n",
    "depPrediction = depPrediction.fillna(0)"
   ]
  },
  {
   "cell_type": "code",
   "execution_count": 188,
   "metadata": {},
   "outputs": [],
   "source": [
    "#Separate Data into X & Y Varables\n",
    "y = depPrediction.DepDelay\n",
    "X = depPrediction.drop('DepDelay', axis = 1)\n"
   ]
  },
  {
   "cell_type": "code",
   "execution_count": 189,
   "metadata": {},
   "outputs": [],
   "source": [
    "#Unique Carrier is no longer needed\n",
    "X = X.drop('UniqueCarrier',axis = 1)\n",
    "X =X.fillna(0)"
   ]
  },
  {
   "cell_type": "markdown",
   "metadata": {},
   "source": [
    "## Predicting Length with All Delay Components Known"
   ]
  },
  {
   "cell_type": "code",
   "execution_count": 190,
   "metadata": {},
   "outputs": [],
   "source": [
    "#Test Train Split\n",
    "X_train, X_test, y_train, y_test= train_test_split(X,y, test_size = .2, random_state = 0)"
   ]
  },
  {
   "cell_type": "code",
   "execution_count": 191,
   "metadata": {},
   "outputs": [
    {
     "data": {
      "text/plain": [
       "Month                0\n",
       "DayOfWeek            0\n",
       "CRSDepTime           0\n",
       "AirTime              0\n",
       "CarrierDelay         0\n",
       "WeatherDelay         0\n",
       "NASDelay             0\n",
       "SecurityDelay        0\n",
       "LateAircraftDelay    0\n",
       "0                    0\n",
       "1                    0\n",
       "2                    0\n",
       "3                    0\n",
       "4                    0\n",
       "5                    0\n",
       "6                    0\n",
       "7                    0\n",
       "8                    0\n",
       "9                    0\n",
       "10                   0\n",
       "11                   0\n",
       "12                   0\n",
       "13                   0\n",
       "14                   0\n",
       "15                   0\n",
       "16                   0\n",
       "17                   0\n",
       "18                   0\n",
       "19                   0\n",
       "dtype: int64"
      ]
     },
     "execution_count": 191,
     "metadata": {},
     "output_type": "execute_result"
    }
   ],
   "source": [
    "#Check for Null Values one more time\n",
    "X.isnull().sum()"
   ]
  },
  {
   "cell_type": "code",
   "execution_count": 192,
   "metadata": {},
   "outputs": [],
   "source": [
    "#Build and Fit the model\n",
    "regressor = LinearRegression()\n",
    "regressor.fit(X_train,y_train)\n",
    "\n",
    "#Make Predictions\n",
    "y_pred = regressor.predict(X_test)"
   ]
  },
  {
   "cell_type": "code",
   "execution_count": 193,
   "metadata": {},
   "outputs": [
    {
     "data": {
      "text/html": [
       "<div>\n",
       "<style scoped>\n",
       "    .dataframe tbody tr th:only-of-type {\n",
       "        vertical-align: middle;\n",
       "    }\n",
       "\n",
       "    .dataframe tbody tr th {\n",
       "        vertical-align: top;\n",
       "    }\n",
       "\n",
       "    .dataframe thead th {\n",
       "        text-align: right;\n",
       "    }\n",
       "</style>\n",
       "<table border=\"1\" class=\"dataframe\">\n",
       "  <thead>\n",
       "    <tr style=\"text-align: right;\">\n",
       "      <th></th>\n",
       "      <th>Actual</th>\n",
       "      <th>Predicted</th>\n",
       "    </tr>\n",
       "  </thead>\n",
       "  <tbody>\n",
       "    <tr>\n",
       "      <td>1209367</td>\n",
       "      <td>57.0</td>\n",
       "      <td>44.157577</td>\n",
       "    </tr>\n",
       "    <tr>\n",
       "      <td>1780071</td>\n",
       "      <td>9.0</td>\n",
       "      <td>42.761356</td>\n",
       "    </tr>\n",
       "    <tr>\n",
       "      <td>1184957</td>\n",
       "      <td>29.0</td>\n",
       "      <td>34.057811</td>\n",
       "    </tr>\n",
       "    <tr>\n",
       "      <td>1465526</td>\n",
       "      <td>31.0</td>\n",
       "      <td>34.684081</td>\n",
       "    </tr>\n",
       "    <tr>\n",
       "      <td>271673</td>\n",
       "      <td>9.0</td>\n",
       "      <td>8.488608</td>\n",
       "    </tr>\n",
       "    <tr>\n",
       "      <td>1767332</td>\n",
       "      <td>16.0</td>\n",
       "      <td>8.959394</td>\n",
       "    </tr>\n",
       "    <tr>\n",
       "      <td>1414268</td>\n",
       "      <td>263.0</td>\n",
       "      <td>242.221582</td>\n",
       "    </tr>\n",
       "    <tr>\n",
       "      <td>729594</td>\n",
       "      <td>37.0</td>\n",
       "      <td>33.776217</td>\n",
       "    </tr>\n",
       "    <tr>\n",
       "      <td>1739725</td>\n",
       "      <td>33.0</td>\n",
       "      <td>28.627402</td>\n",
       "    </tr>\n",
       "    <tr>\n",
       "      <td>639639</td>\n",
       "      <td>11.0</td>\n",
       "      <td>21.776669</td>\n",
       "    </tr>\n",
       "  </tbody>\n",
       "</table>\n",
       "</div>"
      ],
      "text/plain": [
       "         Actual   Predicted\n",
       "1209367    57.0   44.157577\n",
       "1780071     9.0   42.761356\n",
       "1184957    29.0   34.057811\n",
       "1465526    31.0   34.684081\n",
       "271673      9.0    8.488608\n",
       "1767332    16.0    8.959394\n",
       "1414268   263.0  242.221582\n",
       "729594     37.0   33.776217\n",
       "1739725    33.0   28.627402\n",
       "639639     11.0   21.776669"
      ]
     },
     "execution_count": 193,
     "metadata": {},
     "output_type": "execute_result"
    }
   ],
   "source": [
    "#Short glimpse of predicted and actual values\n",
    "pd.DataFrame({'Actual':y_test,'Predicted':y_pred}).head(10)"
   ]
  },
  {
   "cell_type": "code",
   "execution_count": 194,
   "metadata": {},
   "outputs": [
    {
     "name": "stdout",
     "output_type": "stream",
     "text": [
      "Mean Absolute Error: 9.722807307847555\n",
      "Mean Squared Error: 243.1334524676267\n",
      "Root Mean Squared Error: 15.592737170478655\n",
      "R Squared Value: 0.9148113216217795\n"
     ]
    }
   ],
   "source": [
    "#Model Results\n",
    "print('Mean Absolute Error:', metrics.mean_absolute_error(y_test,y_pred))\n",
    "print('Mean Squared Error:',metrics.mean_squared_error(y_test,y_pred))\n",
    "print('Root Mean Squared Error:', np.sqrt(metrics.mean_squared_error(y_test,y_pred)))\n",
    "print('R Squared Value:', r2_score(y_test,y_pred))"
   ]
  },
  {
   "cell_type": "markdown",
   "metadata": {},
   "source": [
    "To no surprise, this model is pretty accurate. The adjusted timing of the flight can be estimated with high certainty once the extent of the delays are known."
   ]
  },
  {
   "cell_type": "markdown",
   "metadata": {},
   "source": [
    "## New Departure Time with Limited Info "
   ]
  },
  {
   "cell_type": "code",
   "execution_count": 195,
   "metadata": {},
   "outputs": [],
   "source": [
    "#Creating Binary Variables to Indicate There is a Delay\n",
    "X2 = X\n",
    "X2.CarrierDelayBin = 0\n",
    "X2.loc[X2['CarrierDelay']>0,'CarrierDelayBin']= 1\n",
    "X2.WeatherDelayBin = 0\n",
    "X2.loc[X2['WeatherDelay']>0,'WeatherDelayBin']= 1\n",
    "X2.NASDelayBin = 0\n",
    "X2.loc[X2['NASDelay']>0,'NASDelayBin']= 1\n",
    "X2.SecurityDelay = 0\n",
    "X2.loc[X2['SecurityDelay']>0,'SecurityDelayBin']= 1\n",
    "X2.LateAircraftDelay = 0\n",
    "X2.loc[X2['LateAircraftDelay']>0,'LateAircraftDelayBin']= 1"
   ]
  },
  {
   "cell_type": "code",
   "execution_count": 196,
   "metadata": {},
   "outputs": [
    {
     "data": {
      "text/plain": [
       "Month                   0\n",
       "DayOfWeek               0\n",
       "CRSDepTime              0\n",
       "AirTime                 0\n",
       "0                       0\n",
       "1                       0\n",
       "2                       0\n",
       "3                       0\n",
       "4                       0\n",
       "5                       0\n",
       "6                       0\n",
       "7                       0\n",
       "8                       0\n",
       "9                       0\n",
       "10                      0\n",
       "11                      0\n",
       "12                      0\n",
       "13                      0\n",
       "14                      0\n",
       "15                      0\n",
       "16                      0\n",
       "17                      0\n",
       "18                      0\n",
       "19                      0\n",
       "CarrierDelayBin         0\n",
       "WeatherDelayBin         0\n",
       "NASDelayBin             0\n",
       "SecurityDelayBin        0\n",
       "LateAircraftDelayBin    0\n",
       "dtype: int64"
      ]
     },
     "execution_count": 196,
     "metadata": {},
     "output_type": "execute_result"
    }
   ],
   "source": [
    "#Remove the original variables\n",
    "X2 = X2.fillna(0)\n",
    "X2 = X2.drop(['CarrierDelay','WeatherDelay','NASDelay','SecurityDelay','LateAircraftDelay'],axis = 1)\n",
    "X2.isna().sum()"
   ]
  },
  {
   "cell_type": "code",
   "execution_count": 197,
   "metadata": {},
   "outputs": [],
   "source": [
    "#Train/Test Split\n",
    "y2 = y\n",
    "X_train2, X_test2, y_train2, y_test2= train_test_split(X2,y2, test_size = .2, random_state = 0)\n",
    "#Fit the Model\n",
    "regressor = LinearRegression()\n",
    "regressor.fit(X_train2,y_train2)\n",
    "#Make Predictions\n",
    "y_pred2 = regressor.predict(X_test2)"
   ]
  },
  {
   "cell_type": "code",
   "execution_count": 198,
   "metadata": {},
   "outputs": [
    {
     "name": "stdout",
     "output_type": "stream",
     "text": [
      "Mean Absolute Error: 31.205659578418214\n",
      "Mean Squared Error: 2619.9740739264153\n",
      "Root Mean Squared Error: 51.18568231377223\n",
      "R Squared: 0.08201801735731218\n"
     ]
    }
   ],
   "source": [
    "#Results\n",
    "print('Mean Absolute Error:', metrics.mean_absolute_error(y_test2,y_pred2))\n",
    "print('Mean Squared Error:',metrics.mean_squared_error(y_test2,y_pred2))\n",
    "print('Root Mean Squared Error:', np.sqrt(metrics.mean_squared_error(y_test2,y_pred2)))\n",
    "print('R Squared:', r2_score(y_test2,y_pred2))"
   ]
  },
  {
   "cell_type": "markdown",
   "metadata": {},
   "source": [
    "In this case, we see an extremely inaccurate model. This shows that is nearly impossible to predict a new departure time without sufficient information on the delay. While airlines probably have access to massive amounts of other data that could help with prediction, passengers should still always be skeptical of the first new estimate of departure."
   ]
  }
 ],
 "metadata": {
  "kernelspec": {
   "display_name": "Python 3",
   "language": "python",
   "name": "python3"
  },
  "language_info": {
   "codemirror_mode": {
    "name": "ipython",
    "version": 3
   },
   "file_extension": ".py",
   "mimetype": "text/x-python",
   "name": "python",
   "nbconvert_exporter": "python",
   "pygments_lexer": "ipython3",
   "version": "3.7.4"
  }
 },
 "nbformat": 4,
 "nbformat_minor": 2
}
